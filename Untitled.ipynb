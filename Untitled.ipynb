{
 "cells": [
  {
   "cell_type": "code",
   "execution_count": 9,
   "metadata": {},
   "outputs": [],
   "source": [
    "import math \n",
    "import random"
   ]
  },
  {
   "cell_type": "code",
   "execution_count": 10,
   "metadata": {},
   "outputs": [
    {
     "name": "stdout",
     "output_type": "stream",
     "text": [
      "Otp of 4 digits :  9947\n"
     ]
    }
   ],
   "source": [
    "def otpgenerator():\n",
    "    digits='0123456789'\n",
    "    otp=''\n",
    "    #n=int(input(\"Enter the no of digits : \"))\n",
    "    for i in range (4):\n",
    "        otp=otp+digits[math.floor(random.random()*10)]\n",
    "    return otp\n",
    "#if __name__ == \"__main__\":\n",
    "    \n",
    "print(\"Otp of 4 digits : \",otpgenerator())\n"
   ]
  },
  {
   "cell_type": "code",
   "execution_count": null,
   "metadata": {},
   "outputs": [],
   "source": []
  }
 ],
 "metadata": {
  "kernelspec": {
   "display_name": "Python 3",
   "language": "python",
   "name": "python3"
  },
  "language_info": {
   "codemirror_mode": {
    "name": "ipython",
    "version": 3
   },
   "file_extension": ".py",
   "mimetype": "text/x-python",
   "name": "python",
   "nbconvert_exporter": "python",
   "pygments_lexer": "ipython3",
   "version": "3.7.3"
  }
 },
 "nbformat": 4,
 "nbformat_minor": 2
}
